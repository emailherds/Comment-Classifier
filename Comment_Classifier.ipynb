{
 "cells": [
  {
   "cell_type": "markdown",
   "id": "b8677329-9927-4b0e-b9fd-4eb6f3eac4b4",
   "metadata": {},
   "source": [
    "# Comment Classifier Using LSTM #"
   ]
  },
  {
   "cell_type": "markdown",
   "id": "97e02a59-ac03-47f9-a926-e245cad1961b",
   "metadata": {},
   "source": [
    "Classifying comments using a form of recurring neural network, the Long Short Term Memory (LSTM) neural network."
   ]
  },
  {
   "cell_type": "code",
   "execution_count": null,
   "id": "3ec22ce5-72a3-4d16-a985-6ed3b1704ffe",
   "metadata": {},
   "outputs": [],
   "source": [
    "import sys, os, re, csv, codecs, numpy as np, pandas as pd\n",
    "import matplotlib.pyplot as plt\n",
    "%matplotlib inline\n",
    "# Update these lines:\n",
    "from tensorflow.keras.preprocessing.text import Tokenizer\n",
    "from tensorflow.keras.preprocessing.sequence import pad_sequences\n",
    "from tensorflow.keras.layers import Dense, Input, LSTM, Embedding, Dropout, Activation\n",
    "from tensorflow.keras.layers import Bidirectional, GlobalMaxPool1D\n",
    "from tensorflow.keras.models import Model\n",
    "from tensorflow.keras import initializers, regularizers, constraints, optimizers, layers"
   ]
  },
  {
   "cell_type": "markdown",
   "id": "1d97249b-eb35-48a3-97ca-fb538927599e",
   "metadata": {},
   "source": [
    "### Load Data and see general structure of dataframe"
   ]
  },
  {
   "cell_type": "code",
   "execution_count": 112,
   "id": "d13b09b3-2814-4f8d-9d33-ca981bb8cf75",
   "metadata": {},
   "outputs": [
    {
     "data": {
      "text/html": [
       "<div>\n",
       "<style scoped>\n",
       "    .dataframe tbody tr th:only-of-type {\n",
       "        vertical-align: middle;\n",
       "    }\n",
       "\n",
       "    .dataframe tbody tr th {\n",
       "        vertical-align: top;\n",
       "    }\n",
       "\n",
       "    .dataframe thead th {\n",
       "        text-align: right;\n",
       "    }\n",
       "</style>\n",
       "<table border=\"1\" class=\"dataframe\">\n",
       "  <thead>\n",
       "    <tr style=\"text-align: right;\">\n",
       "      <th></th>\n",
       "      <th>id</th>\n",
       "      <th>comment_text</th>\n",
       "      <th>toxic</th>\n",
       "      <th>severe_toxic</th>\n",
       "      <th>obscene</th>\n",
       "      <th>threat</th>\n",
       "      <th>insult</th>\n",
       "      <th>identity_hate</th>\n",
       "    </tr>\n",
       "  </thead>\n",
       "  <tbody>\n",
       "    <tr>\n",
       "      <th>0</th>\n",
       "      <td>0000997932d777bf</td>\n",
       "      <td>Explanation\\nWhy the edits made under my usern...</td>\n",
       "      <td>0</td>\n",
       "      <td>0</td>\n",
       "      <td>0</td>\n",
       "      <td>0</td>\n",
       "      <td>0</td>\n",
       "      <td>0</td>\n",
       "    </tr>\n",
       "    <tr>\n",
       "      <th>1</th>\n",
       "      <td>000103f0d9cfb60f</td>\n",
       "      <td>D'aww! He matches this background colour I'm s...</td>\n",
       "      <td>0</td>\n",
       "      <td>0</td>\n",
       "      <td>0</td>\n",
       "      <td>0</td>\n",
       "      <td>0</td>\n",
       "      <td>0</td>\n",
       "    </tr>\n",
       "    <tr>\n",
       "      <th>2</th>\n",
       "      <td>000113f07ec002fd</td>\n",
       "      <td>Hey man, I'm really not trying to edit war. It...</td>\n",
       "      <td>0</td>\n",
       "      <td>0</td>\n",
       "      <td>0</td>\n",
       "      <td>0</td>\n",
       "      <td>0</td>\n",
       "      <td>0</td>\n",
       "    </tr>\n",
       "    <tr>\n",
       "      <th>3</th>\n",
       "      <td>0001b41b1c6bb37e</td>\n",
       "      <td>\"\\nMore\\nI can't make any real suggestions on ...</td>\n",
       "      <td>0</td>\n",
       "      <td>0</td>\n",
       "      <td>0</td>\n",
       "      <td>0</td>\n",
       "      <td>0</td>\n",
       "      <td>0</td>\n",
       "    </tr>\n",
       "    <tr>\n",
       "      <th>4</th>\n",
       "      <td>0001d958c54c6e35</td>\n",
       "      <td>You, sir, are my hero. Any chance you remember...</td>\n",
       "      <td>0</td>\n",
       "      <td>0</td>\n",
       "      <td>0</td>\n",
       "      <td>0</td>\n",
       "      <td>0</td>\n",
       "      <td>0</td>\n",
       "    </tr>\n",
       "  </tbody>\n",
       "</table>\n",
       "</div>"
      ],
      "text/plain": [
       "                 id                                       comment_text  toxic  \\\n",
       "0  0000997932d777bf  Explanation\\nWhy the edits made under my usern...      0   \n",
       "1  000103f0d9cfb60f  D'aww! He matches this background colour I'm s...      0   \n",
       "2  000113f07ec002fd  Hey man, I'm really not trying to edit war. It...      0   \n",
       "3  0001b41b1c6bb37e  \"\\nMore\\nI can't make any real suggestions on ...      0   \n",
       "4  0001d958c54c6e35  You, sir, are my hero. Any chance you remember...      0   \n",
       "\n",
       "   severe_toxic  obscene  threat  insult  identity_hate  \n",
       "0             0        0       0       0              0  \n",
       "1             0        0       0       0              0  \n",
       "2             0        0       0       0              0  \n",
       "3             0        0       0       0              0  \n",
       "4             0        0       0       0              0  "
      ]
     },
     "execution_count": 112,
     "metadata": {},
     "output_type": "execute_result"
    }
   ],
   "source": [
    "train = pd.read_csv('./Data/train.csv')\n",
    "test = pd.read_csv('./Data/test.csv')\n",
    "test_labels = pd.read_csv('./Data/test_labels.csv')\n",
    "train.head()"
   ]
  },
  {
   "cell_type": "code",
   "execution_count": 82,
   "id": "a8ce7bbf-0c48-4d83-b6d3-0ab57eba0fb4",
   "metadata": {},
   "outputs": [
    {
     "data": {
      "text/plain": [
       "id              False\n",
       "comment_text    False\n",
       "dtype: bool"
      ]
     },
     "execution_count": 82,
     "metadata": {},
     "output_type": "execute_result"
    }
   ],
   "source": [
    "train.isnull().any()\n",
    "test.isnull().any()"
   ]
  },
  {
   "cell_type": "markdown",
   "id": "794a5f31-a978-442f-9214-bc4ecc373b2e",
   "metadata": {},
   "source": [
    "### Split Dataframe into comment text, and their corresponding toxicity values"
   ]
  },
  {
   "cell_type": "code",
   "execution_count": 113,
   "id": "6115a6bc-c5b3-405a-8812-7e9479a3b86a",
   "metadata": {},
   "outputs": [],
   "source": [
    "list_classes = [\"toxic\", \"severe_toxic\", \"obscene\", \"threat\", \"insult\", \"identity_hate\"]\n",
    "y = train[list_classes].values\n",
    "y_test = test_labels.values\n",
    "list_sentences_train = train[\"comment_text\"].fillna(\"\\\"\")\n",
    "list_sentences_test = test[\"comment_text\"].fillna(\"\\\"\")"
   ]
  },
  {
   "cell_type": "markdown",
   "id": "ac92a969-66f0-455c-91ed-48447deb36da",
   "metadata": {},
   "source": [
    "### Tokenize the words by assigning each word an index and converting each comment into these indicies"
   ]
  },
  {
   "cell_type": "code",
   "execution_count": 25,
   "id": "8edc7fd1-baf5-4896-9180-655432292095",
   "metadata": {},
   "outputs": [],
   "source": [
    "max_features = 20000\n",
    "tokenizer = Tokenizer(num_words = max_features)\n",
    "tokenizer.fit_on_texts(list(list_sentences_train)) #this function ranks words based on frequency, with 1 being the most frequent in the dataset\n",
    "\n",
    "list_tokenized_train = tokenizer.texts_to_sequences(list_sentences_train) # converts the comments into integer sequences\n",
    "list_tokenized_test = tokenizer.texts_to_sequences(list_sentences_test)"
   ]
  },
  {
   "cell_type": "markdown",
   "id": "e7269d85-b123-4fba-b4ee-2d7e7611105d",
   "metadata": {},
   "source": [
    "### Make every comment the same length (pad the shorter ones and trim the longer ones)"
   ]
  },
  {
   "cell_type": "markdown",
   "id": "b9ee2367-4603-4401-8937-f0bee7bf95ad",
   "metadata": {},
   "source": [
    "We need to keep in mind that a if we trim the long comments prematurely, we may lose out on key information. Therefore, we plot the distribution of lengths of comments to see what number would be optimal."
   ]
  },
  {
   "cell_type": "code",
   "execution_count": 34,
   "id": "3fd4205a-ae3b-4b86-902d-0c29c9a94308",
   "metadata": {},
   "outputs": [
    {
     "data": {
      "image/png": "[encoded data removed]",
      "text/plain": [
       "<Figure size 640x480 with 1 Axes>"
      ]
     },
     "metadata": {},
     "output_type": "display_data"
    }
   ],
   "source": [
    "totalNumWords = [len(single_comment) for single_comment in list_tokenized_train]\n",
    "plt.hist(totalNumWords, \n",
    "         bins=np.arange(0, 500, 10),\n",
    "         edgecolor='black', \n",
    "         color='#1f34a2',    \n",
    "         alpha=0.8)         # Slightly transparent\n",
    "plt.show()"
   ]
  },
  {
   "cell_type": "markdown",
   "id": "1a04faf2-d798-4719-af81-1c1f503af245",
   "metadata": {},
   "source": [
    "Based on this, it seems reasonable that at around 200-300, we aren't losing too much information."
   ]
  },
  {
   "cell_type": "code",
   "execution_count": 43,
   "id": "2a299178-e973-453e-b199-654056ea50fd",
   "metadata": {},
   "outputs": [],
   "source": [
    "maximum_length = 250\n",
    "x_train = pad_sequences(list_tokenized_train, maxlen=maximum_length)\n",
    "x_test = pad_sequences(list_tokenized_test, maxlen=maximum_length)"
   ]
  },
  {
   "cell_type": "markdown",
   "id": "68ebb4d6-a28b-44e2-bf09-352f6cc1d86e",
   "metadata": {},
   "source": [
    "## Model Section"
   ]
  },
  {
   "cell_type": "markdown",
   "id": "029f47e4-316e-4743-a6f0-81b8791945d1",
   "metadata": {},
   "source": [
    "General architecture: Input -> Embedding -> LSTM -> Max Pooling -> Dropout -> Dense -> Dropout -> Dense"
   ]
  },
  {
   "cell_type": "markdown",
   "id": "130f2f1f-2797-4ec9-a82d-eca6e21c7eb2",
   "metadata": {},
   "source": [
    "Our first layer is the input layer, which takes a number of sentences, where each one has a maximum length of 250."
   ]
  },
  {
   "cell_type": "code",
   "execution_count": 44,
   "id": "9a9c35ad-010e-4978-b564-167371e2e260",
   "metadata": {},
   "outputs": [],
   "source": [
    "inp = Input(shape=(maximum_length, )) #maximum_length = 250, second dimension inferred by Keras"
   ]
  },
  {
   "cell_type": "markdown",
   "id": "8cedef21-8d49-428e-b7c4-ba14c5f1e322",
   "metadata": {},
   "source": [
    "Next, we have our embedding layer, which takes in the input and puts each word in a coordinate space, with words that are more similar to eachother being closer in terms of coordinates."
   ]
  },
  {
   "cell_type": "code",
   "execution_count": 49,
   "id": "69ce7bf0-de35-4e4e-82a5-e2cc458dbb03",
   "metadata": {},
   "outputs": [],
   "source": [
    "embed_size = 128\n",
    "embedded_output = Embedding(max_features, embed_size)(inp)"
   ]
  },
  {
   "cell_type": "markdown",
   "id": "6ea863e2-5495-430e-ac38-dc57a44a6722",
   "metadata": {},
   "source": [
    "Now, we have our LSTM layer. The LSTM will produce an output with dimension 60. In our case, we want to process each comment, word by word, and we update the memory at each timestep. At the end, it will produce an output with (None, 250, 60). 200 is the number of timesteps per pass of the model, and 60 is the output dimension we receive."
   ]
  },
  {
   "cell_type": "code",
   "execution_count": 59,
   "id": "d6fe414a-5956-4219-bad9-d0ccc3f5ea1e",
   "metadata": {},
   "outputs": [
    {
     "data": {
      "text/plain": [
       "<KerasTensor: shape=(None, 250, 60) dtype=float32 (created by layer 'lstm_layer')>"
      ]
     },
     "execution_count": 59,
     "metadata": {},
     "output_type": "execute_result"
    }
   ],
   "source": [
    "lstm_output = LSTM(60, return_sequences=True,name='lstm_layer')(embedded_output)\n",
    "lstm_output"
   ]
  },
  {
   "cell_type": "markdown",
   "id": "8917fbac-d0ed-462c-8e2b-a57537d07c48",
   "metadata": {},
   "source": [
    "The Global Max Pooling layer reduces the dimensionality of the output and noise. The tensor we acquired is three dimensional, and we need it to become two dimensional. We take the maximum values for each patch of data."
   ]
  },
  {
   "cell_type": "code",
   "execution_count": 60,
   "id": "50de0ec5-d685-4176-b6d9-0bf0f27aa319",
   "metadata": {},
   "outputs": [],
   "source": [
    "gmp_output = GlobalMaxPool1D()(lstm_output)"
   ]
  },
  {
   "cell_type": "markdown",
   "id": "663c727b-efa0-47b2-84c9-0e86f01b8e32",
   "metadata": {},
   "source": [
    "To reduce overfitting, the dropout layer will randomly select 10% of nodes to make the model more generalizable."
   ]
  },
  {
   "cell_type": "code",
   "execution_count": 61,
   "id": "4a54d5f8-f605-4a45-8d5d-b382fc5dca15",
   "metadata": {},
   "outputs": [],
   "source": [
    "drop_output = Dropout(0.1)(gmp_output)"
   ]
  },
  {
   "cell_type": "markdown",
   "id": "ce83c1f5-06ca-444a-a978-0876df0d0a6c",
   "metadata": {},
   "source": [
    "Next, we need to pass our output into a dense layer, which will mix features from our output and produce another ouput after passing through the ReLU activation function. "
   ]
  },
  {
   "cell_type": "code",
   "execution_count": 63,
   "id": "a7fc9353-4c7b-467c-b332-026743ac9b11",
   "metadata": {},
   "outputs": [],
   "source": [
    "dense_output = Dense(50, activation=\"relu\")(drop_output)"
   ]
  },
  {
   "cell_type": "markdown",
   "id": "b2af8105-63fa-4292-bde4-e87f87afa554",
   "metadata": {},
   "source": [
    "Now, repeating a dropout layer:"
   ]
  },
  {
   "cell_type": "code",
   "execution_count": 65,
   "id": "8e52f4bd-4f4e-49e6-ba93-4766ce670f81",
   "metadata": {},
   "outputs": [],
   "source": [
    "drop_output2 = Dropout(0.1)(dense_output)"
   ]
  },
  {
   "cell_type": "markdown",
   "id": "68e8e602-61bf-4ca8-b2e0-8bd6c36578d7",
   "metadata": {},
   "source": [
    "We use another dense layer, this time using a sigmoid function to achieve a binary classification"
   ]
  },
  {
   "cell_type": "code",
   "execution_count": 66,
   "id": "6694d4ce-ab72-4c82-821f-6c40ecd6b2df",
   "metadata": {},
   "outputs": [],
   "source": [
    "dense_output2 = Dense(6, activation=\"sigmoid\")(drop_output2)"
   ]
  },
  {
   "cell_type": "markdown",
   "id": "9b4a7a26-7e61-4588-8b77-864013f910ea",
   "metadata": {},
   "source": [
    "Finally, we can compile the model. We are using binary cross entropy for the loss function due to our binary classification, and the adam optimizer. "
   ]
  },
  {
   "cell_type": "code",
   "execution_count": 69,
   "id": "de8b99d2-fe1f-465d-b7c9-8f9aba42f989",
   "metadata": {},
   "outputs": [],
   "source": [
    "model = Model(inputs=inp, outputs=dense_output2)\n",
    "model.compile(loss='binary_crossentropy',\n",
    "                  optimizer='adam',\n",
    "                  metrics=['accuracy'])"
   ]
  },
  {
   "cell_type": "markdown",
   "id": "0947e14d-da29-4e7d-9345-de965b38ac98",
   "metadata": {},
   "source": [
    "We train the model with a batch size of 32 and for 2 epochs. Splitting our training set into 90% training and 10% testing allows us to validate our results and whether the model overfit to the current testing data. "
   ]
  },
  {
   "cell_type": "code",
   "execution_count": 72,
   "id": "89c37588-1881-4d1f-b5c1-b3d093217906",
   "metadata": {},
   "outputs": [
    {
     "name": "stdout",
     "output_type": "stream",
     "text": [
      "Epoch 1/2\n",
      "4488/4488 [==============================] - 655s 145ms/step - loss: 0.0672 - accuracy: 0.9582 - val_loss: 0.0490 - val_accuracy: 0.9940\n",
      "Epoch 2/2\n",
      "4488/4488 [==============================] - 830s 185ms/step - loss: 0.0451 - accuracy: 0.9869 - val_loss: 0.0466 - val_accuracy: 0.9939\n"
     ]
    },
    {
     "data": {
      "text/plain": [
       "<keras.callbacks.History at 0x1fac9f925b0>"
      ]
     },
     "execution_count": 72,
     "metadata": {},
     "output_type": "execute_result"
    }
   ],
   "source": [
    "batch_size = 32\n",
    "epochs = 2\n",
    "model.fit(x_train,y, batch_size=batch_size, epochs=epochs, validation_split=0.1)"
   ]
  },
  {
   "cell_type": "code",
   "execution_count": 85,
   "id": "210d6892-1b97-4e80-89a7-c59f52447885",
   "metadata": {},
   "outputs": [
    {
     "name": "stdout",
     "output_type": "stream",
     "text": [
      "Model: \"model_1\"\n",
      "_________________________________________________________________\n",
      " Layer (type)                Output Shape              Param #   \n",
      "=================================================================\n",
      " input_3 (InputLayer)        [(None, 250)]             0         \n",
      "                                                                 \n",
      " embedding_4 (Embedding)     (None, 250, 128)          2560000   \n",
      "                                                                 \n",
      " lstm_layer (LSTM)           (None, 250, 60)           45360     \n",
      "                                                                 \n",
      " global_max_pooling1d_2 (Glo  (None, 60)               0         \n",
      " balMaxPooling1D)                                                \n",
      "                                                                 \n",
      " dropout_3 (Dropout)         (None, 60)                0         \n",
      "                                                                 \n",
      " dense_2 (Dense)             (None, 50)                3050      \n",
      "                                                                 \n",
      " dense_3 (Dense)             (None, 50)                2550      \n",
      "                                                                 \n",
      " dropout_5 (Dropout)         (None, 50)                0         \n",
      "                                                                 \n",
      " dense_4 (Dense)             (None, 6)                 306       \n",
      "                                                                 \n",
      "=================================================================\n",
      "Total params: 2,611,266\n",
      "Trainable params: 2,611,266\n",
      "Non-trainable params: 0\n",
      "_________________________________________________________________\n"
     ]
    }
   ],
   "source": [
    "model.summary()"
   ]
  },
  {
   "cell_type": "code",
   "execution_count": 110,
   "id": "2412b4ba-759d-45f7-809b-841756d32000",
   "metadata": {},
   "outputs": [
    {
     "name": "stdout",
     "output_type": "stream",
     "text": [
      "1/1 [==============================] - 0s 79ms/step\n",
      "Comment: hello\n",
      "\n",
      "Toxicity Analysis:\n",
      "TOXIC           negative (4.77%)\n",
      "SEVERE_TOXIC    negative (0.03%)\n",
      "OBSCENE         negative (1.36%)\n",
      "THREAT          negative (0.13%)\n",
      "INSULT          negative (0.93%)\n",
      "IDENTITY_HATE   negative (0.50%)\n"
     ]
    }
   ],
   "source": [
    "test_comment = \"hello\"\n",
    "\n",
    "sequence = tokenizer.texts_to_sequences([test_comment])\n",
    "padded_sequence = pad_sequences(sequence, maxlen=250)\n",
    "\n",
    "prediction = model.predict(padded_sequence)\n",
    "\n",
    "classes = [\"toxic\", \"severe_toxic\", \"obscene\", \"threat\", \"insult\", \"identity_hate\"]\n",
    "threshold = 0.5 \n",
    "\n",
    "print(\"Comment:\", test_comment)\n",
    "print(\"\\nToxicity Analysis:\")\n",
    "for i, class_name in enumerate(classes):\n",
    "    confidence = prediction[0][i]\n",
    "    status = \"POSITIVE\" if confidence > threshold else \"negative\"\n",
    "    print(f\"{class_name.upper():<15} {status:<8} ({confidence*100:.2f}%)\")"
   ]
  },
  {
   "cell_type": "code",
   "execution_count": 111,
   "id": "cac60ae3-423f-4d4a-9795-641d3a5c27f0",
   "metadata": {},
   "outputs": [],
   "source": [
    "model.save('comment_classifier.h5')"
   ]
  }
 ],
 "metadata": {
  "kernelspec": {
   "display_name": "Python 3 (ipykernel)",
   "language": "python",
   "name": "python3"
  },
  "language_info": {
   "codemirror_mode": {
    "name": "ipython",
    "version": 3
   },
   "file_extension": ".py",
   "mimetype": "text/x-python",
   "name": "python",
   "nbconvert_exporter": "python",
   "pygments_lexer": "ipython3",
   "version": "3.9.18"
  }
 },
 "nbformat": 4,
 "nbformat_minor": 5
}
